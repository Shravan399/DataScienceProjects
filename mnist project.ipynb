{
 "cells": [
  {
   "cell_type": "code",
   "execution_count": 13,
   "id": "c5db91a4",
   "metadata": {},
   "outputs": [],
   "source": [
    "path=r'C:\\Users\\Pintoo\\Downloads\\downloads1\\mnist.zip'"
   ]
  },
  {
   "cell_type": "code",
   "execution_count": 14,
   "id": "4e06b3e6",
   "metadata": {},
   "outputs": [],
   "source": [
    "from zipfile import ZipFile\n",
    "with ZipFile(path, 'r') as zipObj:\n",
    "#      #Extract all the contents of zip file in current directory\n",
    "     zipObj.extractall(r'D:\\cv_images')"
   ]
  },
  {
   "cell_type": "code",
   "execution_count": 15,
   "id": "8c52fc5d",
   "metadata": {},
   "outputs": [],
   "source": [
    "#import necessary libraries\n",
    "import os\n",
    "from PIL import Image\n",
    "import pandas as pd\n",
    "import numpy as np"
   ]
  },
  {
   "cell_type": "code",
   "execution_count": null,
   "id": "dec6be35",
   "metadata": {},
   "outputs": [],
   "source": [
    "def load_mnist_data(datafolder):\n",
    "    data = []\n",
    "    labels = []\n",
    "\n",
    "    for root, _, files in os.walk(datafolder):\n",
    "        for file in files:\n",
    "            if file.endswith(\".png\"):\n",
    "                image_path = os.path.join(root, file)\n",
    "                try:\n",
    "                    with Image.open(image_path) as image:\n",
    "                        # Convert the image to grayscale and then to a numpy array\n",
    "                        img_array = np.array(image.convert('L'), dtype='uint8')\n",
    "                        flattened_img = img_array.ravel()\n",
    "                        data.append(flattened_img)\n",
    "                    label = os.path.basename(os.path.dirname(image_path))\n",
    "                    labels.append(label)\n",
    "                except Exception as e:\n",
    "                    print(f\"Error processing image {image_path}: {e}\")\n",
    "\n",
    "    return data, labels\n",
    "                                  \n",
    "target_path = r'D:\\cv_images'\n",
    "data, labels = load_mnist_data(target_path)\n",
    "\n",
    "#Create a new dataframe with columns based on the number of pixels in the flattened image\n",
    "pixelsdf = pd.DataFrame(data, columns=[f'pixel{i}' for i in range(len(data[0]))])\n",
    "\n",
    "#Create the final dataframe with the 'Label' column\n",
    "mnist_df = pd.concat([pixelsdf, pd.Series(labels, name='Label')], axis=1)\n",
    "\n",
    "#Display the vectorized image dataframe\n",
    "mnist_df.head()\n",
    "#Get the columns with non-zero values (excluding the 'Label' column)\n",
    "non_zero_columns = mnist_df.drop('Label', axis=1).columns[mnist_df.drop('Label', axis=1).any()]\n",
    "\n",
    "#Display the columns with non-zero values\n",
    "print(non_zero_columns)"
   ]
  },
  {
   "cell_type": "code",
   "execution_count": null,
   "id": "ce9ed1f2",
   "metadata": {},
   "outputs": [],
   "source": []
  }
 ],
 "metadata": {
  "kernelspec": {
   "display_name": "Python 3 (ipykernel)",
   "language": "python",
   "name": "python3"
  },
  "language_info": {
   "codemirror_mode": {
    "name": "ipython",
    "version": 3
   },
   "file_extension": ".py",
   "mimetype": "text/x-python",
   "name": "python",
   "nbconvert_exporter": "python",
   "pygments_lexer": "ipython3",
   "version": "3.9.13"
  },
  "nbTranslate": {
   "displayLangs": [
    "*"
   ],
   "hotkey": "alt-t",
   "langInMainMenu": true,
   "sourceLang": "en",
   "targetLang": "fr",
   "useGoogleTranslate": true
  }
 },
 "nbformat": 4,
 "nbformat_minor": 5
}
