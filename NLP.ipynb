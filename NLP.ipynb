{
 "cells": [
  {
   "cell_type": "code",
   "execution_count": 13,
   "id": "4adea0b4",
   "metadata": {},
   "outputs": [],
   "source": [
    "import os\n",
    "import pandas as pd\n",
    "\n",
    "folder_path = r\"C:\\Users\\Pintoo\\OneDrive\\Projects\\text\"\n",
    "file_contents = []\n",
    "\n",
    "for filename in os.listdir(folder_path):\n",
    "    if filename.endswith(\".txt\"):\n",
    "        file_path = os.path.join(folder_path, filename)\n",
    "        with open(file_path, \"r\") as file:\n",
    "            content = file.read()\n",
    "            file_contents.append(content)\n",
    "\n",
    "data = {\"label\": [\"default\"] * len(file_contents), \"text\": file_contents}\n",
    "df = pd.DataFrame(data)\n"
   ]
  },
  {
   "cell_type": "code",
   "execution_count": 15,
   "id": "9b290a93",
   "metadata": {},
   "outputs": [
    {
     "name": "stdout",
     "output_type": "stream",
     "text": [
      "        label                                               text\n",
      "0     default  MajorClaim\\nwe should attach more importance t...\n",
      "1     default  Premise\\nTake Olympic games which is a form of...\n",
      "2     default  Premise\\nThe high technology and new ideas app...\n",
      "3     default  Premise\\npollutions are not just caused by the...\n",
      "4     default  Premise\\nthe improvements of work efficiency a...\n",
      "...       ...                                                ...\n",
      "6084  default  MajorClaim\\naddressing pollution and traffic i...\n",
      "6085  default  Premise\\nwhether it can work out for alleviati...\n",
      "6086  default  Premise\\nprice control institution has been us...\n",
      "6087  default  Claim\\nit seems not easy to increase petrol pr...\n",
      "6088  default  Premise\\ngovernments have a macro-economic per...\n",
      "\n",
      "[6089 rows x 2 columns]\n"
     ]
    }
   ],
   "source": [
    "print(df)"
   ]
  },
  {
   "cell_type": "code",
   "execution_count": 16,
   "id": "3492c8ff",
   "metadata": {},
   "outputs": [],
   "source": [
    "import re\n",
    "\n",
    "df['label'] = df['text'].apply(lambda x: re.findall(r'^\\s*(MajorClaim|Premise|Claim)', x, flags=re.IGNORECASE)[0])\n"
   ]
  },
  {
   "cell_type": "code",
   "execution_count": 17,
   "id": "ef1fd0b5",
   "metadata": {},
   "outputs": [
    {
     "name": "stdout",
     "output_type": "stream",
     "text": [
      "           label                                               text\n",
      "0     MajorClaim  MajorClaim\\nwe should attach more importance t...\n",
      "1        Premise  Premise\\nTake Olympic games which is a form of...\n",
      "2        Premise  Premise\\nThe high technology and new ideas app...\n",
      "3        Premise  Premise\\npollutions are not just caused by the...\n",
      "4        Premise  Premise\\nthe improvements of work efficiency a...\n",
      "...          ...                                                ...\n",
      "6084  MajorClaim  MajorClaim\\naddressing pollution and traffic i...\n",
      "6085     Premise  Premise\\nwhether it can work out for alleviati...\n",
      "6086     Premise  Premise\\nprice control institution has been us...\n",
      "6087       Claim  Claim\\nit seems not easy to increase petrol pr...\n",
      "6088     Premise  Premise\\ngovernments have a macro-economic per...\n",
      "\n",
      "[6089 rows x 2 columns]\n"
     ]
    }
   ],
   "source": [
    "print(df)"
   ]
  },
  {
   "cell_type": "code",
   "execution_count": 18,
   "id": "0593f1f3",
   "metadata": {},
   "outputs": [
    {
     "name": "stdout",
     "output_type": "stream",
     "text": [
      "           label                                               text\n",
      "0     MajorClaim  we should attach more importance to cooperatio...\n",
      "1        Premise  Take Olympic games which is a form of competit...\n",
      "2        Premise  The high technology and new ideas applied into...\n",
      "3        Premise  pollutions are not just caused by the burning ...\n",
      "4        Premise  the improvements of work efficiency also attri...\n",
      "...          ...                                                ...\n",
      "6084  MajorClaim  addressing pollution and traffic issues only b...\n",
      "6085     Premise  whether it can work out for alleviating traffi...\n",
      "6086     Premise  price control institution has been used in ple...\n",
      "6087       Claim  it seems not easy to increase petrol price ins...\n",
      "6088     Premise  governments have a macro-economic perspective ...\n",
      "\n",
      "[6089 rows x 2 columns]\n"
     ]
    }
   ],
   "source": [
    "\n",
    "\n",
    "df = pd.DataFrame(data)\n",
    "df['label'] = df['text'].apply(lambda x: re.findall(r'^\\s*(MajorClaim|Premise|Claim)', x, flags=re.IGNORECASE)[0])\n",
    "\n",
    "# Remove labels from the text column\n",
    "df['text'] = df['text'].str.replace(r'^(MajorClaim|Premise|Claim)\\n', '', regex=True)\n",
    "\n",
    "print(df)\n"
   ]
  },
  {
   "cell_type": "code",
   "execution_count": 20,
   "id": "fa68e00a",
   "metadata": {},
   "outputs": [
    {
     "name": "stdout",
     "output_type": "stream",
     "text": [
      "           label                                               text\n",
      "0     MajorClaim  we should attach more importance to cooperatio...\n",
      "1        Premise  Take Olympic games which is a form of competit...\n",
      "2        Premise  The high technology and new ideas applied into...\n",
      "3        Premise  pollutions are not just caused by the burning ...\n",
      "4        Premise  the improvements of work efficiency also attri...\n",
      "...          ...                                                ...\n",
      "6084  MajorClaim  addressing pollution and traffic issues only b...\n",
      "6085     Premise  whether it can work out for alleviating traffi...\n",
      "6086     Premise  price control institution has been used in ple...\n",
      "6087       Claim  it seems not easy to increase petrol price ins...\n",
      "6088     Premise  governments have a macro-economic perspective ...\n",
      "\n",
      "[6089 rows x 2 columns]\n"
     ]
    }
   ],
   "source": [
    "dataframe=pd.DataFrame(df)\n",
    "print(dataframe)"
   ]
  },
  {
   "cell_type": "code",
   "execution_count": 23,
   "id": "43c5c342",
   "metadata": {},
   "outputs": [
    {
     "data": {
      "text/html": [
       "<div>\n",
       "<style scoped>\n",
       "    .dataframe tbody tr th:only-of-type {\n",
       "        vertical-align: middle;\n",
       "    }\n",
       "\n",
       "    .dataframe tbody tr th {\n",
       "        vertical-align: top;\n",
       "    }\n",
       "\n",
       "    .dataframe thead th {\n",
       "        text-align: right;\n",
       "    }\n",
       "</style>\n",
       "<table border=\"1\" class=\"dataframe\">\n",
       "  <thead>\n",
       "    <tr style=\"text-align: right;\">\n",
       "      <th></th>\n",
       "      <th>label</th>\n",
       "      <th>text</th>\n",
       "    </tr>\n",
       "  </thead>\n",
       "  <tbody>\n",
       "    <tr>\n",
       "      <th>0</th>\n",
       "      <td>MajorClaim</td>\n",
       "      <td>we should attach more importance to cooperatio...</td>\n",
       "    </tr>\n",
       "    <tr>\n",
       "      <th>1</th>\n",
       "      <td>Premise</td>\n",
       "      <td>Take Olympic games which is a form of competit...</td>\n",
       "    </tr>\n",
       "    <tr>\n",
       "      <th>2</th>\n",
       "      <td>Premise</td>\n",
       "      <td>The high technology and new ideas applied into...</td>\n",
       "    </tr>\n",
       "    <tr>\n",
       "      <th>3</th>\n",
       "      <td>Premise</td>\n",
       "      <td>pollutions are not just caused by the burning ...</td>\n",
       "    </tr>\n",
       "    <tr>\n",
       "      <th>4</th>\n",
       "      <td>Premise</td>\n",
       "      <td>the improvements of work efficiency also attri...</td>\n",
       "    </tr>\n",
       "    <tr>\n",
       "      <th>...</th>\n",
       "      <td>...</td>\n",
       "      <td>...</td>\n",
       "    </tr>\n",
       "    <tr>\n",
       "      <th>6084</th>\n",
       "      <td>MajorClaim</td>\n",
       "      <td>addressing pollution and traffic issues only b...</td>\n",
       "    </tr>\n",
       "    <tr>\n",
       "      <th>6085</th>\n",
       "      <td>Premise</td>\n",
       "      <td>whether it can work out for alleviating traffi...</td>\n",
       "    </tr>\n",
       "    <tr>\n",
       "      <th>6086</th>\n",
       "      <td>Premise</td>\n",
       "      <td>price control institution has been used in ple...</td>\n",
       "    </tr>\n",
       "    <tr>\n",
       "      <th>6087</th>\n",
       "      <td>Claim</td>\n",
       "      <td>it seems not easy to increase petrol price ins...</td>\n",
       "    </tr>\n",
       "    <tr>\n",
       "      <th>6088</th>\n",
       "      <td>Premise</td>\n",
       "      <td>governments have a macro-economic perspective ...</td>\n",
       "    </tr>\n",
       "  </tbody>\n",
       "</table>\n",
       "<p>6089 rows × 2 columns</p>\n",
       "</div>"
      ],
      "text/plain": [
       "           label                                               text\n",
       "0     MajorClaim  we should attach more importance to cooperatio...\n",
       "1        Premise  Take Olympic games which is a form of competit...\n",
       "2        Premise  The high technology and new ideas applied into...\n",
       "3        Premise  pollutions are not just caused by the burning ...\n",
       "4        Premise  the improvements of work efficiency also attri...\n",
       "...          ...                                                ...\n",
       "6084  MajorClaim  addressing pollution and traffic issues only b...\n",
       "6085     Premise  whether it can work out for alleviating traffi...\n",
       "6086     Premise  price control institution has been used in ple...\n",
       "6087       Claim  it seems not easy to increase petrol price ins...\n",
       "6088     Premise  governments have a macro-economic perspective ...\n",
       "\n",
       "[6089 rows x 2 columns]"
      ]
     },
     "execution_count": 23,
     "metadata": {},
     "output_type": "execute_result"
    }
   ],
   "source": [
    "dataframe"
   ]
  },
  {
   "cell_type": "code",
   "execution_count": 24,
   "id": "9b813e57",
   "metadata": {},
   "outputs": [
    {
     "data": {
      "text/plain": [
       "Premise       3832\n",
       "Claim         1506\n",
       "MajorClaim     751\n",
       "Name: label, dtype: int64"
      ]
     },
     "execution_count": 24,
     "metadata": {},
     "output_type": "execute_result"
    }
   ],
   "source": [
    "dataframe['label'].value_counts()"
   ]
  },
  {
   "cell_type": "code",
   "execution_count": 25,
   "id": "f99e7deb",
   "metadata": {},
   "outputs": [
    {
     "name": "stdout",
     "output_type": "stream",
     "text": [
      "Maximum number of character-level tokens: 345\n"
     ]
    }
   ],
   "source": [
    "max_tokens = 0\n",
    "\n",
    "for text in df['text']:\n",
    "    num_tokens = len(text)\n",
    "    if num_tokens > max_tokens:\n",
    "        max_tokens = num_tokens\n",
    "\n",
    "print(\"Maximum number of character-level tokens:\", max_tokens)\n"
   ]
  },
  {
   "cell_type": "code",
   "execution_count": 26,
   "id": "8a52acc4",
   "metadata": {},
   "outputs": [
    {
     "name": "stdout",
     "output_type": "stream",
     "text": [
      "Maximum number of word-level tokens: 67\n"
     ]
    }
   ],
   "source": [
    "max_tokens = 0\n",
    "\n",
    "for text in df['text']:\n",
    "    tokens = text.split()\n",
    "    num_tokens = len(tokens)\n",
    "    if num_tokens > max_tokens:\n",
    "        max_tokens = num_tokens\n",
    "\n",
    "print(\"Maximum number of word-level tokens:\", max_tokens)\n"
   ]
  },
  {
   "cell_type": "code",
   "execution_count": 28,
   "id": "1f10e3bc",
   "metadata": {},
   "outputs": [
    {
     "name": "stdout",
     "output_type": "stream",
     "text": [
      "Total number of unique vocabulary words: 9103\n"
     ]
    }
   ],
   "source": [
    "vocab_set = set()\n",
    "\n",
    "for text in df['text']:\n",
    "    tokens = text.split()\n",
    "    vocab_set.update(tokens)\n",
    "\n",
    "total_vocab_words = len(vocab_set)\n",
    "\n",
    "print(\"Total number of unique vocabulary words:\", total_vocab_words)\n",
    "\n"
   ]
  },
  {
   "cell_type": "code",
   "execution_count": 29,
   "id": "e0584f02",
   "metadata": {},
   "outputs": [
    {
     "name": "stderr",
     "output_type": "stream",
     "text": [
      "[nltk_data] Downloading package stopwords to\n",
      "[nltk_data]     C:\\Users\\Pintoo\\AppData\\Roaming\\nltk_data...\n",
      "[nltk_data]   Unzipping corpora\\stopwords.zip.\n",
      "[nltk_data] Downloading package wordnet to\n",
      "[nltk_data]     C:\\Users\\Pintoo\\AppData\\Roaming\\nltk_data...\n",
      "[nltk_data] Downloading package omw-1.4 to\n",
      "[nltk_data]     C:\\Users\\Pintoo\\AppData\\Roaming\\nltk_data...\n"
     ]
    },
    {
     "data": {
      "text/plain": [
       "True"
      ]
     },
     "execution_count": 29,
     "metadata": {},
     "output_type": "execute_result"
    }
   ],
   "source": [
    "import nltk\n",
    "nltk.download('stopwords')\n",
    "# Downloading wordnet before applying Lemmatizer\n",
    "nltk.download('wordnet')\n",
    "nltk.download('omw-1.4')"
   ]
  },
  {
   "cell_type": "code",
   "execution_count": 30,
   "id": "bce7baba",
   "metadata": {},
   "outputs": [],
   "source": [
    "import re\n",
    "import nltk\n",
    "from nltk.tokenize import word_tokenize\n",
    "from nltk.corpus import stopwords\n",
    "from nltk.stem.porter import PorterStemmer\n",
    "from nltk.stem import WordNetLemmatizer"
   ]
  },
  {
   "cell_type": "code",
   "execution_count": 39,
   "id": "5d55167e",
   "metadata": {},
   "outputs": [],
   "source": [
    "y = df['label']\n",
    "X = df[['text']]"
   ]
  },
  {
   "cell_type": "code",
   "execution_count": 40,
   "id": "b34313d2",
   "metadata": {},
   "outputs": [],
   "source": [
    "# Splitting into train and test\n",
    "\n",
    "from sklearn.model_selection import train_test_split\n",
    "\n",
    "X_train, X_test, y_train, y_test = train_test_split(X, y, test_size=0.2, random_state=42)"
   ]
  },
  {
   "cell_type": "code",
   "execution_count": 41,
   "id": "875b8b24",
   "metadata": {},
   "outputs": [
    {
     "data": {
      "text/html": [
       "<div>\n",
       "<style scoped>\n",
       "    .dataframe tbody tr th:only-of-type {\n",
       "        vertical-align: middle;\n",
       "    }\n",
       "\n",
       "    .dataframe tbody tr th {\n",
       "        vertical-align: top;\n",
       "    }\n",
       "\n",
       "    .dataframe thead th {\n",
       "        text-align: right;\n",
       "    }\n",
       "</style>\n",
       "<table border=\"1\" class=\"dataframe\">\n",
       "  <thead>\n",
       "    <tr style=\"text-align: right;\">\n",
       "      <th></th>\n",
       "      <th>text</th>\n",
       "    </tr>\n",
       "  </thead>\n",
       "  <tbody>\n",
       "    <tr>\n",
       "      <th>100</th>\n",
       "      <td>flourishing economies can go hand in hand with...</td>\n",
       "    </tr>\n",
       "    <tr>\n",
       "      <th>4084</th>\n",
       "      <td>we, as an average people, might feel that the ...</td>\n",
       "    </tr>\n",
       "    <tr>\n",
       "      <th>2420</th>\n",
       "      <td>Having one's own hobbies and doing physical ac...</td>\n",
       "    </tr>\n",
       "    <tr>\n",
       "      <th>5863</th>\n",
       "      <td>Frank Zappa once said, \"Mind is like a parachu...</td>\n",
       "    </tr>\n",
       "    <tr>\n",
       "      <th>4866</th>\n",
       "      <td>Recently, his health and personal life was dra...</td>\n",
       "    </tr>\n",
       "  </tbody>\n",
       "</table>\n",
       "</div>"
      ],
      "text/plain": [
       "                                                   text\n",
       "100   flourishing economies can go hand in hand with...\n",
       "4084  we, as an average people, might feel that the ...\n",
       "2420  Having one's own hobbies and doing physical ac...\n",
       "5863  Frank Zappa once said, \"Mind is like a parachu...\n",
       "4866  Recently, his health and personal life was dra..."
      ]
     },
     "execution_count": 41,
     "metadata": {},
     "output_type": "execute_result"
    }
   ],
   "source": [
    "X_train.head()"
   ]
  },
  {
   "cell_type": "code",
   "execution_count": 42,
   "id": "a1692da4",
   "metadata": {},
   "outputs": [
    {
     "data": {
      "text/plain": [
       "(4871, 1)"
      ]
     },
     "execution_count": 42,
     "metadata": {},
     "output_type": "execute_result"
    }
   ],
   "source": [
    "X_train.shape"
   ]
  },
  {
   "cell_type": "code",
   "execution_count": 43,
   "id": "8e1a86f0",
   "metadata": {},
   "outputs": [],
   "source": [
    "import re\n",
    "import nltk\n",
    "from nltk.tokenize import word_tokenize\n",
    "from nltk.corpus import stopwords\n",
    "from nltk.stem.porter import PorterStemmer\n",
    "from nltk.stem import WordNetLemmatizer\n",
    "## initialise the inbuilt Stemmer\n",
    "stemmer = PorterStemmer()"
   ]
  },
  {
   "cell_type": "code",
   "execution_count": 44,
   "id": "e1f5f689",
   "metadata": {},
   "outputs": [],
   "source": [
    "## We can also use Lemmatizer instead of Stemmer\n",
    "lemmatizer = WordNetLemmatizer()"
   ]
  },
  {
   "cell_type": "code",
   "execution_count": 45,
   "id": "9adf8333",
   "metadata": {},
   "outputs": [],
   "source": [
    "def preprocess(raw_text, flag):\n",
    "    # Removing special characters and digits\n",
    "    sentence = re.sub(\"[^a-zA-Z]\", \" \", raw_text)\n",
    "    \n",
    "    # change sentence to lower case\n",
    "    sentence = sentence.lower()\n",
    "\n",
    "    # tokenize into words\n",
    "    tokens = sentence.split()\n",
    "    \n",
    "    # remove stop words                \n",
    "    clean_tokens = [t for t in tokens if not t in stopwords.words(\"english\")]\n",
    "    \n",
    "    # Stemming/Lemmatization\n",
    "    if(flag == 'stem'):\n",
    "        clean_tokens = [stemmer.stem(word) for word in clean_tokens]\n",
    "    else:\n",
    "        clean_tokens = [lemmatizer.lemmatize(word) for word in clean_tokens]\n",
    "    \n",
    "    return pd.Series([\" \".join(clean_tokens), len(clean_tokens)])"
   ]
  },
  {
   "cell_type": "code",
   "execution_count": 46,
   "id": "3f030075",
   "metadata": {},
   "outputs": [],
   "source": [
    "from tqdm import tqdm, tqdm_notebook"
   ]
  },
  {
   "cell_type": "code",
   "execution_count": 47,
   "id": "923dda0e",
   "metadata": {},
   "outputs": [],
   "source": [
    "# Register `pandas.progress_apply` and `pandas.Series.map_apply` with `tqdm`\n",
    "\n",
    "tqdm.pandas()"
   ]
  },
  {
   "cell_type": "code",
   "execution_count": 48,
   "id": "b6233ed2",
   "metadata": {},
   "outputs": [
    {
     "name": "stderr",
     "output_type": "stream",
     "text": [
      "100%|█████████████████████████████████████████████████████████████████████████████| 4871/4871 [00:13<00:00, 348.49it/s]\n"
     ]
    },
    {
     "data": {
      "text/html": [
       "<div>\n",
       "<style scoped>\n",
       "    .dataframe tbody tr th:only-of-type {\n",
       "        vertical-align: middle;\n",
       "    }\n",
       "\n",
       "    .dataframe tbody tr th {\n",
       "        vertical-align: top;\n",
       "    }\n",
       "\n",
       "    .dataframe thead th {\n",
       "        text-align: right;\n",
       "    }\n",
       "</style>\n",
       "<table border=\"1\" class=\"dataframe\">\n",
       "  <thead>\n",
       "    <tr style=\"text-align: right;\">\n",
       "      <th></th>\n",
       "      <th>0</th>\n",
       "      <th>1</th>\n",
       "    </tr>\n",
       "  </thead>\n",
       "  <tbody>\n",
       "    <tr>\n",
       "      <th>100</th>\n",
       "      <td>flourish economi go hand hand environment preserv</td>\n",
       "      <td>7</td>\n",
       "    </tr>\n",
       "    <tr>\n",
       "      <th>4084</th>\n",
       "      <td>averag peopl might feel respons goal heavi carri</td>\n",
       "      <td>8</td>\n",
       "    </tr>\n",
       "    <tr>\n",
       "      <th>2420</th>\n",
       "      <td>one hobbi physic activ bring us lot benefit</td>\n",
       "      <td>8</td>\n",
       "    </tr>\n",
       "    <tr>\n",
       "      <th>5863</th>\n",
       "      <td>frank zappa said mind like parachut work open</td>\n",
       "      <td>8</td>\n",
       "    </tr>\n",
       "    <tr>\n",
       "      <th>4866</th>\n",
       "      <td>recent health person life drastic affect broke...</td>\n",
       "      <td>13</td>\n",
       "    </tr>\n",
       "  </tbody>\n",
       "</table>\n",
       "</div>"
      ],
      "text/plain": [
       "                                                      0   1\n",
       "100   flourish economi go hand hand environment preserv   7\n",
       "4084   averag peopl might feel respons goal heavi carri   8\n",
       "2420        one hobbi physic activ bring us lot benefit   8\n",
       "5863      frank zappa said mind like parachut work open   8\n",
       "4866  recent health person life drastic affect broke...  13"
      ]
     },
     "execution_count": 48,
     "metadata": {},
     "output_type": "execute_result"
    }
   ],
   "source": [
    "# Now you can use `progress_apply` instead of `apply`\n",
    "# and `progress_map` instead of `map`\n",
    "\n",
    "temp_df = X_train['text'].progress_apply(lambda x: preprocess(x, 'stem'))\n",
    "\n",
    "temp_df.head()"
   ]
  },
  {
   "cell_type": "code",
   "execution_count": 49,
   "id": "f232e26a",
   "metadata": {},
   "outputs": [
    {
     "data": {
      "text/html": [
       "<div>\n",
       "<style scoped>\n",
       "    .dataframe tbody tr th:only-of-type {\n",
       "        vertical-align: middle;\n",
       "    }\n",
       "\n",
       "    .dataframe tbody tr th {\n",
       "        vertical-align: top;\n",
       "    }\n",
       "\n",
       "    .dataframe thead th {\n",
       "        text-align: right;\n",
       "    }\n",
       "</style>\n",
       "<table border=\"1\" class=\"dataframe\">\n",
       "  <thead>\n",
       "    <tr style=\"text-align: right;\">\n",
       "      <th></th>\n",
       "      <th>clean_text_stem</th>\n",
       "      <th>text_length_stem</th>\n",
       "    </tr>\n",
       "  </thead>\n",
       "  <tbody>\n",
       "    <tr>\n",
       "      <th>100</th>\n",
       "      <td>flourish economi go hand hand environment preserv</td>\n",
       "      <td>7</td>\n",
       "    </tr>\n",
       "    <tr>\n",
       "      <th>4084</th>\n",
       "      <td>averag peopl might feel respons goal heavi carri</td>\n",
       "      <td>8</td>\n",
       "    </tr>\n",
       "    <tr>\n",
       "      <th>2420</th>\n",
       "      <td>one hobbi physic activ bring us lot benefit</td>\n",
       "      <td>8</td>\n",
       "    </tr>\n",
       "    <tr>\n",
       "      <th>5863</th>\n",
       "      <td>frank zappa said mind like parachut work open</td>\n",
       "      <td>8</td>\n",
       "    </tr>\n",
       "    <tr>\n",
       "      <th>4866</th>\n",
       "      <td>recent health person life drastic affect broke...</td>\n",
       "      <td>13</td>\n",
       "    </tr>\n",
       "  </tbody>\n",
       "</table>\n",
       "</div>"
      ],
      "text/plain": [
       "                                        clean_text_stem  text_length_stem\n",
       "100   flourish economi go hand hand environment preserv                 7\n",
       "4084   averag peopl might feel respons goal heavi carri                 8\n",
       "2420        one hobbi physic activ bring us lot benefit                 8\n",
       "5863      frank zappa said mind like parachut work open                 8\n",
       "4866  recent health person life drastic affect broke...                13"
      ]
     },
     "execution_count": 49,
     "metadata": {},
     "output_type": "execute_result"
    }
   ],
   "source": [
    "temp_df.columns = ['clean_text_stem', 'text_length_stem']\n",
    "\n",
    "temp_df.head()"
   ]
  },
  {
   "cell_type": "code",
   "execution_count": 50,
   "id": "e6c1c5e9",
   "metadata": {},
   "outputs": [
    {
     "data": {
      "text/html": [
       "<div>\n",
       "<style scoped>\n",
       "    .dataframe tbody tr th:only-of-type {\n",
       "        vertical-align: middle;\n",
       "    }\n",
       "\n",
       "    .dataframe tbody tr th {\n",
       "        vertical-align: top;\n",
       "    }\n",
       "\n",
       "    .dataframe thead th {\n",
       "        text-align: right;\n",
       "    }\n",
       "</style>\n",
       "<table border=\"1\" class=\"dataframe\">\n",
       "  <thead>\n",
       "    <tr style=\"text-align: right;\">\n",
       "      <th></th>\n",
       "      <th>text</th>\n",
       "      <th>clean_text_stem</th>\n",
       "      <th>text_length_stem</th>\n",
       "    </tr>\n",
       "  </thead>\n",
       "  <tbody>\n",
       "    <tr>\n",
       "      <th>100</th>\n",
       "      <td>flourishing economies can go hand in hand with...</td>\n",
       "      <td>flourish economi go hand hand environment preserv</td>\n",
       "      <td>7</td>\n",
       "    </tr>\n",
       "    <tr>\n",
       "      <th>4084</th>\n",
       "      <td>we, as an average people, might feel that the ...</td>\n",
       "      <td>averag peopl might feel respons goal heavi carri</td>\n",
       "      <td>8</td>\n",
       "    </tr>\n",
       "    <tr>\n",
       "      <th>2420</th>\n",
       "      <td>Having one's own hobbies and doing physical ac...</td>\n",
       "      <td>one hobbi physic activ bring us lot benefit</td>\n",
       "      <td>8</td>\n",
       "    </tr>\n",
       "    <tr>\n",
       "      <th>5863</th>\n",
       "      <td>Frank Zappa once said, \"Mind is like a parachu...</td>\n",
       "      <td>frank zappa said mind like parachut work open</td>\n",
       "      <td>8</td>\n",
       "    </tr>\n",
       "    <tr>\n",
       "      <th>4866</th>\n",
       "      <td>Recently, his health and personal life was dra...</td>\n",
       "      <td>recent health person life drastic affect broke...</td>\n",
       "      <td>13</td>\n",
       "    </tr>\n",
       "  </tbody>\n",
       "</table>\n",
       "</div>"
      ],
      "text/plain": [
       "                                                   text  \\\n",
       "100   flourishing economies can go hand in hand with...   \n",
       "4084  we, as an average people, might feel that the ...   \n",
       "2420  Having one's own hobbies and doing physical ac...   \n",
       "5863  Frank Zappa once said, \"Mind is like a parachu...   \n",
       "4866  Recently, his health and personal life was dra...   \n",
       "\n",
       "                                        clean_text_stem  text_length_stem  \n",
       "100   flourish economi go hand hand environment preserv                 7  \n",
       "4084   averag peopl might feel respons goal heavi carri                 8  \n",
       "2420        one hobbi physic activ bring us lot benefit                 8  \n",
       "5863      frank zappa said mind like parachut work open                 8  \n",
       "4866  recent health person life drastic affect broke...                13  "
      ]
     },
     "execution_count": 50,
     "metadata": {},
     "output_type": "execute_result"
    }
   ],
   "source": [
    "X_train = pd.concat([X_train, temp_df], axis=1)\n",
    "\n",
    "X_train.head()"
   ]
  },
  {
   "cell_type": "code",
   "execution_count": 51,
   "id": "49f3d124",
   "metadata": {},
   "outputs": [
    {
     "name": "stderr",
     "output_type": "stream",
     "text": [
      "100%|█████████████████████████████████████████████████████████████████████████████| 4871/4871 [00:22<00:00, 216.46it/s]\n"
     ]
    },
    {
     "data": {
      "text/html": [
       "<div>\n",
       "<style scoped>\n",
       "    .dataframe tbody tr th:only-of-type {\n",
       "        vertical-align: middle;\n",
       "    }\n",
       "\n",
       "    .dataframe tbody tr th {\n",
       "        vertical-align: top;\n",
       "    }\n",
       "\n",
       "    .dataframe thead th {\n",
       "        text-align: right;\n",
       "    }\n",
       "</style>\n",
       "<table border=\"1\" class=\"dataframe\">\n",
       "  <thead>\n",
       "    <tr style=\"text-align: right;\">\n",
       "      <th></th>\n",
       "      <th>0</th>\n",
       "      <th>1</th>\n",
       "    </tr>\n",
       "  </thead>\n",
       "  <tbody>\n",
       "    <tr>\n",
       "      <th>100</th>\n",
       "      <td>flourishing economy go hand hand environmental...</td>\n",
       "      <td>7</td>\n",
       "    </tr>\n",
       "    <tr>\n",
       "      <th>4084</th>\n",
       "      <td>average people might feel responsibility goal ...</td>\n",
       "      <td>8</td>\n",
       "    </tr>\n",
       "    <tr>\n",
       "      <th>2420</th>\n",
       "      <td>one hobby physical activity bring u lot benefit</td>\n",
       "      <td>8</td>\n",
       "    </tr>\n",
       "    <tr>\n",
       "      <th>5863</th>\n",
       "      <td>frank zappa said mind like parachute work open</td>\n",
       "      <td>8</td>\n",
       "    </tr>\n",
       "    <tr>\n",
       "      <th>4866</th>\n",
       "      <td>recently health personal life drastically affe...</td>\n",
       "      <td>13</td>\n",
       "    </tr>\n",
       "  </tbody>\n",
       "</table>\n",
       "</div>"
      ],
      "text/plain": [
       "                                                      0   1\n",
       "100   flourishing economy go hand hand environmental...   7\n",
       "4084  average people might feel responsibility goal ...   8\n",
       "2420    one hobby physical activity bring u lot benefit   8\n",
       "5863     frank zappa said mind like parachute work open   8\n",
       "4866  recently health personal life drastically affe...  13"
      ]
     },
     "execution_count": 51,
     "metadata": {},
     "output_type": "execute_result"
    }
   ],
   "source": [
    "temp_df = X_train['text'].progress_apply(lambda x: preprocess(x, 'lemma'))\n",
    "\n",
    "temp_df.head()"
   ]
  },
  {
   "cell_type": "code",
   "execution_count": 52,
   "id": "d511cc66",
   "metadata": {
    "scrolled": true
   },
   "outputs": [
    {
     "data": {
      "text/html": [
       "<div>\n",
       "<style scoped>\n",
       "    .dataframe tbody tr th:only-of-type {\n",
       "        vertical-align: middle;\n",
       "    }\n",
       "\n",
       "    .dataframe tbody tr th {\n",
       "        vertical-align: top;\n",
       "    }\n",
       "\n",
       "    .dataframe thead th {\n",
       "        text-align: right;\n",
       "    }\n",
       "</style>\n",
       "<table border=\"1\" class=\"dataframe\">\n",
       "  <thead>\n",
       "    <tr style=\"text-align: right;\">\n",
       "      <th></th>\n",
       "      <th>clean_text_lemma</th>\n",
       "      <th>text_length_lemma</th>\n",
       "    </tr>\n",
       "  </thead>\n",
       "  <tbody>\n",
       "    <tr>\n",
       "      <th>100</th>\n",
       "      <td>flourishing economy go hand hand environmental...</td>\n",
       "      <td>7</td>\n",
       "    </tr>\n",
       "    <tr>\n",
       "      <th>4084</th>\n",
       "      <td>average people might feel responsibility goal ...</td>\n",
       "      <td>8</td>\n",
       "    </tr>\n",
       "    <tr>\n",
       "      <th>2420</th>\n",
       "      <td>one hobby physical activity bring u lot benefit</td>\n",
       "      <td>8</td>\n",
       "    </tr>\n",
       "    <tr>\n",
       "      <th>5863</th>\n",
       "      <td>frank zappa said mind like parachute work open</td>\n",
       "      <td>8</td>\n",
       "    </tr>\n",
       "    <tr>\n",
       "      <th>4866</th>\n",
       "      <td>recently health personal life drastically affe...</td>\n",
       "      <td>13</td>\n",
       "    </tr>\n",
       "  </tbody>\n",
       "</table>\n",
       "</div>"
      ],
      "text/plain": [
       "                                       clean_text_lemma  text_length_lemma\n",
       "100   flourishing economy go hand hand environmental...                  7\n",
       "4084  average people might feel responsibility goal ...                  8\n",
       "2420    one hobby physical activity bring u lot benefit                  8\n",
       "5863     frank zappa said mind like parachute work open                  8\n",
       "4866  recently health personal life drastically affe...                 13"
      ]
     },
     "execution_count": 52,
     "metadata": {},
     "output_type": "execute_result"
    }
   ],
   "source": [
    "temp_df.columns = ['clean_text_lemma', 'text_length_lemma']\n",
    "\n",
    "temp_df.head()"
   ]
  },
  {
   "cell_type": "code",
   "execution_count": 61,
   "id": "04daaf8f",
   "metadata": {},
   "outputs": [],
   "source": [
    "#temp_df.columns['text_length_lemma'].min()"
   ]
  },
  {
   "cell_type": "code",
   "execution_count": 56,
   "id": "65bd56f4",
   "metadata": {},
   "outputs": [
    {
     "data": {
      "text/html": [
       "<div>\n",
       "<style scoped>\n",
       "    .dataframe tbody tr th:only-of-type {\n",
       "        vertical-align: middle;\n",
       "    }\n",
       "\n",
       "    .dataframe tbody tr th {\n",
       "        vertical-align: top;\n",
       "    }\n",
       "\n",
       "    .dataframe thead th {\n",
       "        text-align: right;\n",
       "    }\n",
       "</style>\n",
       "<table border=\"1\" class=\"dataframe\">\n",
       "  <thead>\n",
       "    <tr style=\"text-align: right;\">\n",
       "      <th></th>\n",
       "      <th>text</th>\n",
       "      <th>clean_text_stem</th>\n",
       "      <th>text_length_stem</th>\n",
       "      <th>clean_text_lemma</th>\n",
       "      <th>text_length_lemma</th>\n",
       "      <th>clean_text_lemma</th>\n",
       "      <th>text_length_lemma</th>\n",
       "    </tr>\n",
       "  </thead>\n",
       "  <tbody>\n",
       "    <tr>\n",
       "      <th>100</th>\n",
       "      <td>flourishing economies can go hand in hand with...</td>\n",
       "      <td>flourish economi go hand hand environment preserv</td>\n",
       "      <td>7</td>\n",
       "      <td>flourishing economy go hand hand environmental...</td>\n",
       "      <td>7</td>\n",
       "      <td>flourishing economy go hand hand environmental...</td>\n",
       "      <td>7</td>\n",
       "    </tr>\n",
       "    <tr>\n",
       "      <th>4084</th>\n",
       "      <td>we, as an average people, might feel that the ...</td>\n",
       "      <td>averag peopl might feel respons goal heavi carri</td>\n",
       "      <td>8</td>\n",
       "      <td>average people might feel responsibility goal ...</td>\n",
       "      <td>8</td>\n",
       "      <td>average people might feel responsibility goal ...</td>\n",
       "      <td>8</td>\n",
       "    </tr>\n",
       "    <tr>\n",
       "      <th>2420</th>\n",
       "      <td>Having one's own hobbies and doing physical ac...</td>\n",
       "      <td>one hobbi physic activ bring us lot benefit</td>\n",
       "      <td>8</td>\n",
       "      <td>one hobby physical activity bring u lot benefit</td>\n",
       "      <td>8</td>\n",
       "      <td>one hobby physical activity bring u lot benefit</td>\n",
       "      <td>8</td>\n",
       "    </tr>\n",
       "    <tr>\n",
       "      <th>5863</th>\n",
       "      <td>Frank Zappa once said, \"Mind is like a parachu...</td>\n",
       "      <td>frank zappa said mind like parachut work open</td>\n",
       "      <td>8</td>\n",
       "      <td>frank zappa said mind like parachute work open</td>\n",
       "      <td>8</td>\n",
       "      <td>frank zappa said mind like parachute work open</td>\n",
       "      <td>8</td>\n",
       "    </tr>\n",
       "    <tr>\n",
       "      <th>4866</th>\n",
       "      <td>Recently, his health and personal life was dra...</td>\n",
       "      <td>recent health person life drastic affect broke...</td>\n",
       "      <td>13</td>\n",
       "      <td>recently health personal life drastically affe...</td>\n",
       "      <td>13</td>\n",
       "      <td>recently health personal life drastically affe...</td>\n",
       "      <td>13</td>\n",
       "    </tr>\n",
       "  </tbody>\n",
       "</table>\n",
       "</div>"
      ],
      "text/plain": [
       "                                                   text  \\\n",
       "100   flourishing economies can go hand in hand with...   \n",
       "4084  we, as an average people, might feel that the ...   \n",
       "2420  Having one's own hobbies and doing physical ac...   \n",
       "5863  Frank Zappa once said, \"Mind is like a parachu...   \n",
       "4866  Recently, his health and personal life was dra...   \n",
       "\n",
       "                                        clean_text_stem  text_length_stem  \\\n",
       "100   flourish economi go hand hand environment preserv                 7   \n",
       "4084   averag peopl might feel respons goal heavi carri                 8   \n",
       "2420        one hobbi physic activ bring us lot benefit                 8   \n",
       "5863      frank zappa said mind like parachut work open                 8   \n",
       "4866  recent health person life drastic affect broke...                13   \n",
       "\n",
       "                                       clean_text_lemma  text_length_lemma  \\\n",
       "100   flourishing economy go hand hand environmental...                  7   \n",
       "4084  average people might feel responsibility goal ...                  8   \n",
       "2420    one hobby physical activity bring u lot benefit                  8   \n",
       "5863     frank zappa said mind like parachute work open                  8   \n",
       "4866  recently health personal life drastically affe...                 13   \n",
       "\n",
       "                                       clean_text_lemma  text_length_lemma  \n",
       "100   flourishing economy go hand hand environmental...                  7  \n",
       "4084  average people might feel responsibility goal ...                  8  \n",
       "2420    one hobby physical activity bring u lot benefit                  8  \n",
       "5863     frank zappa said mind like parachute work open                  8  \n",
       "4866  recently health personal life drastically affe...                 13  "
      ]
     },
     "execution_count": 56,
     "metadata": {},
     "output_type": "execute_result"
    }
   ],
   "source": [
    "X_train = pd.concat([X_train, temp_df], axis=1)\n",
    "\n",
    "X_train.head()"
   ]
  },
  {
   "cell_type": "code",
   "execution_count": null,
   "id": "cff82b73",
   "metadata": {},
   "outputs": [],
   "source": []
  }
 ],
 "metadata": {
  "kernelspec": {
   "display_name": "Python 3 (ipykernel)",
   "language": "python",
   "name": "python3"
  },
  "language_info": {
   "codemirror_mode": {
    "name": "ipython",
    "version": 3
   },
   "file_extension": ".py",
   "mimetype": "text/x-python",
   "name": "python",
   "nbconvert_exporter": "python",
   "pygments_lexer": "ipython3",
   "version": "3.9.13"
  },
  "nbTranslate": {
   "displayLangs": [
    "*"
   ],
   "hotkey": "alt-t",
   "langInMainMenu": true,
   "sourceLang": "en",
   "targetLang": "fr",
   "useGoogleTranslate": true
  }
 },
 "nbformat": 4,
 "nbformat_minor": 5
}
